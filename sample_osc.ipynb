{
 "cells": [
  {
   "cell_type": "markdown",
   "metadata": {},
   "source": [
    "# OSC: Open Sound Control \n",
    "\n",
    "Python / Max for Live"
   ]
  },
  {
   "cell_type": "markdown",
   "metadata": {},
   "source": [
    "- PyPi: python-osc https://pypi.org/project/python-osc/\n",
    "- https://cycling74.com/forums/python-data-via-osc-to-max\n",
    "- about OSC: https://yoppa.org/ma2_10/2279.html  \n",
    "- python-osc: https://techracho.bpsinc.jp/katayama-yuuki/2017_07_13/42884"
   ]
  },
  {
   "cell_type": "markdown",
   "metadata": {},
   "source": [
    "---\n",
    "\n",
    "OSC -> `process()` -> OSC"
   ]
  },
  {
   "cell_type": "markdown",
   "metadata": {},
   "source": [
    "### Data processor"
   ]
  },
  {
   "cell_type": "code",
   "execution_count": 1,
   "metadata": {},
   "outputs": [],
   "source": [
    "# sample processor\n",
    "\n",
    "def process(*value) -> None:\n",
    "    send_msg(*value)\n",
    "    return"
   ]
  },
  {
   "cell_type": "markdown",
   "metadata": {},
   "source": [
    "### OSC Send"
   ]
  },
  {
   "cell_type": "code",
   "execution_count": 2,
   "metadata": {},
   "outputs": [],
   "source": [
    "from pythonosc import osc_message_builder\n",
    "from pythonosc import udp_client\n",
    "\n",
    "\n",
    "client = udp_client.UDPClient(\"127.0.0.1\", 5555)\n",
    "\n",
    "def send_msg(address: str, msg_value) -> None:\n",
    "    print(f\"address: {address}\")\n",
    "    print(f\"msg: {msg_value}\")\n",
    "    msg = osc_message_builder.OscMessageBuilder(address=address)\n",
    "    msg.add_arg(str(msg_value))\n",
    "    client.send(msg.build())"
   ]
  },
  {
   "cell_type": "code",
   "execution_count": 17,
   "metadata": {},
   "outputs": [],
   "source": [
    "from pythonosc import osc_message_builder\n",
    "from pythonosc import udp_client\n",
    "\n",
    "a = \"1 \" * 100\n",
    "client = udp_client.UDPClient(\"127.0.0.1\", 4444)\n",
    "msg = osc_message_builder.OscMessageBuilder(address=\"/sample\")\n",
    "msg.add_arg(a)\n",
    "client.send(msg.build())"
   ]
  },
  {
   "cell_type": "markdown",
   "metadata": {},
   "source": [
    "MaxでのOSC受信\n",
    "\n",
    "https://cycling74.com/forums/receiving-osc"
   ]
  },
  {
   "cell_type": "markdown",
   "metadata": {},
   "source": [
    "### OSC Receiver"
   ]
  },
  {
   "cell_type": "code",
   "execution_count": null,
   "metadata": {},
   "outputs": [
    {
     "name": "stdout",
     "output_type": "stream",
     "text": [
      "address: /sample\n",
      "msg: -999\n",
      "address: /sample\n",
      "msg: -999\n",
      "address: /sample\n",
      "msg: -999\n",
      "address: /sample\n",
      "msg: -999\n",
      "address: /sample\n",
      "msg: -994\n",
      "address: /sample\n",
      "msg: -993\n",
      "address: /sample\n",
      "msg: -991\n",
      "address: /sample\n",
      "msg: -990\n",
      "address: /sample\n",
      "msg: -988\n",
      "address: /sample\n",
      "msg: -987\n",
      "address: /sample\n",
      "msg: -986\n",
      "address: /sample\n",
      "msg: -985\n",
      "address: /sample\n",
      "msg: -984\n",
      "address: /sample\n",
      "msg: -981\n",
      "address: /sample\n",
      "msg: -980\n",
      "address: /sample\n",
      "msg: -976\n",
      "address: /sample\n",
      "msg: -969\n",
      "address: /sample\n",
      "msg: -967\n",
      "address: /sample\n",
      "msg: -963\n",
      "address: /sample\n",
      "msg: -960\n",
      "address: /sample\n",
      "msg: -959\n",
      "address: /sample\n",
      "msg: -956\n",
      "address: /sample\n",
      "msg: -952\n",
      "address: /sample\n",
      "msg: -951\n",
      "address: /sample\n",
      "msg: -948\n",
      "address: /sample\n",
      "msg: -946\n",
      "address: /sample\n",
      "msg: -942\n",
      "address: /sample\n",
      "msg: -940\n",
      "address: /sampleaddress: /sample\n",
      "msg: -935\n",
      "\n",
      "msg: -937\n",
      "address: /sample\n",
      "msg: -933\n",
      "address: /sample\n",
      "msg: -930\n",
      "address: /sample\n",
      "msg: -929\n",
      "address: /sample\n",
      "msg: -927\n",
      "address: /sample\n",
      "msg: -924\n",
      "address: /sample\n",
      "msg: -923\n",
      "address: /sample\n",
      "msg: -918\n",
      "address: /sample\n",
      "msg: -917\n",
      "address: /sample\n",
      "msg: -915\n",
      "address: /sample\n",
      "msg: -913\n",
      "address: /sample\n",
      "msg: -912\n",
      "address: /sample\n",
      "msg: -911\n",
      "address: /sample\n",
      "msg: -909\n",
      "address: /sample\n",
      "msg: -908\n",
      "address: /sample\n",
      "msg: -906\n",
      "address: /sample\n",
      "msg: -905\n",
      "address: /sample\n",
      "msg: -902\n",
      "address: /sample\n",
      "msg: -900\n",
      "address: /sample\n",
      "msg: -899\n",
      "address: /sample\n",
      "msg: -898\n",
      "address: /sample\n",
      "msg: -897\n",
      "address: /sample\n",
      "msg: -896\n",
      "address: /sample\n",
      "msg: -895\n",
      "address: /sample\n",
      "msg: -894\n",
      "address: /sample\n",
      "msg: -893\n",
      "address: /sample\n",
      "msg: -892\n",
      "address: /sample\n",
      "msg: -889\n",
      "address: /sample\n",
      "msg: -888\n",
      "address: /sample\n",
      "msg: -887\n",
      "address: /sample\n",
      "msg: -886\n",
      "address: /sample\n",
      "msg: -885\n",
      "address: /sample\n",
      "msg: -884\n",
      "address: /sample\n",
      "msg: -883\n",
      "address: /sample\n",
      "msg: -882\n",
      "address: /sample\n",
      "msg: -881\n",
      "address: /sample\n",
      "msg: -880\n",
      "address: /sample\n",
      "msg: -879\n"
     ]
    }
   ],
   "source": [
    "from pythonosc import dispatcher\n",
    "from pythonosc import osc_server\n",
    "\n",
    "dispatcher = dispatcher.Dispatcher()\n",
    "dispatcher.map(\"/sample\", process)\n",
    "\n",
    "server = osc_server.ThreadingOSCUDPServer((\"127.0.0.1\", 4444), dispatcher)\n",
    "server.serve_forever()"
   ]
  },
  {
   "cell_type": "code",
   "execution_count": null,
   "metadata": {},
   "outputs": [],
   "source": []
  }
 ],
 "metadata": {
  "kernelspec": {
   "display_name": "Python 3",
   "language": "python",
   "name": "python3"
  },
  "language_info": {
   "codemirror_mode": {
    "name": "ipython",
    "version": 3
   },
   "file_extension": ".py",
   "mimetype": "text/x-python",
   "name": "python",
   "nbconvert_exporter": "python",
   "pygments_lexer": "ipython3",
   "version": "3.6.8"
  }
 },
 "nbformat": 4,
 "nbformat_minor": 2
}
