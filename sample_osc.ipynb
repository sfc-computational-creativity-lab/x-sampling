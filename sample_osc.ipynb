{
 "cells": [
  {
   "cell_type": "markdown",
   "metadata": {},
   "source": [
    "# OSC: Open Sound Control \n",
    "\n",
    "Python / Max for Live"
   ]
  },
  {
   "cell_type": "markdown",
   "metadata": {},
   "source": [
    "- PyPi: python-osc https://pypi.org/project/python-osc/\n",
    "- https://cycling74.com/forums/python-data-via-osc-to-max\n",
    "- about OSC: https://yoppa.org/ma2_10/2279.html  \n",
    "- python-osc: https://techracho.bpsinc.jp/katayama-yuuki/2017_07_13/42884"
   ]
  },
  {
   "cell_type": "markdown",
   "metadata": {},
   "source": [
    "---\n",
    "\n",
    "OSC -> `process()` -> OSC"
   ]
  },
  {
   "cell_type": "markdown",
   "metadata": {},
   "source": [
    "### Data processor"
   ]
  },
  {
   "cell_type": "code",
   "execution_count": null,
   "metadata": {},
   "outputs": [],
   "source": [
    "# sample processor\n",
    "\n",
    "def process(*value) -> None:\n",
    "    send_msg(*value)\n",
    "    return"
   ]
  },
  {
   "cell_type": "markdown",
   "metadata": {},
   "source": [
    "### OSC Send"
   ]
  },
  {
   "cell_type": "code",
   "execution_count": null,
   "metadata": {},
   "outputs": [],
   "source": [
    "from pythonosc import osc_message_builder\n",
    "from pythonosc import udp_client\n",
    "\n",
    "\n",
    "client = udp_client.UDPClient(\"127.0.0.1\", 5555)\n",
    "\n",
    "def send_msg(address: str, msg_value) -> None:\n",
    "    print(f\"address: {address}\")\n",
    "    print(f\"msg: {msg_value}\")\n",
    "    msg = osc_message_builder.OscMessageBuilder(address=address)\n",
    "    msg.add_arg(str(msg_value))\n",
    "    client.send(msg.build())"
   ]
  },
  {
   "cell_type": "markdown",
   "metadata": {},
   "source": [
    "- about Max OSC receiving\n",
    "\n",
    "https://cycling74.com/forums/receiving-osc"
   ]
  },
  {
   "cell_type": "markdown",
   "metadata": {},
   "source": [
    "### OSC Receiver"
   ]
  },
  {
   "cell_type": "code",
   "execution_count": null,
   "metadata": {},
   "outputs": [],
   "source": [
    "from pythonosc import dispatcher\n",
    "from pythonosc import osc_server\n",
    "\n",
    "dispatcher = dispatcher.Dispatcher()\n",
    "dispatcher.map(\"/sample\", process)\n",
    "\n",
    "server = osc_server.ThreadingOSCUDPServer((\"127.0.0.1\", 4444), dispatcher)\n",
    "server.serve_forever()"
   ]
  },
  {
   "cell_type": "code",
   "execution_count": null,
   "metadata": {},
   "outputs": [],
   "source": []
  }
 ],
 "metadata": {
  "kernelspec": {
   "display_name": "Python 3",
   "language": "python",
   "name": "python3"
  },
  "language_info": {
   "codemirror_mode": {
    "name": "ipython",
    "version": 3
   },
   "file_extension": ".py",
   "mimetype": "text/x-python",
   "name": "python",
   "nbconvert_exporter": "python",
   "pygments_lexer": "ipython3",
   "version": "3.6.8"
  }
 },
 "nbformat": 4,
 "nbformat_minor": 2
}
